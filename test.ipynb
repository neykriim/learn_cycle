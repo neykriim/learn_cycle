{
 "cells": [
  {
   "cell_type": "code",
   "execution_count": 3,
   "id": "2f23be7c-506c-4574-8e7a-ee41cca62e57",
   "metadata": {},
   "outputs": [],
   "source": [
    "import pandas as pd\n",
    "\n",
    "pd.read_csv('statistic.csv', index_col=0).to_csv('/home/prokofev.a@agtu.ru/Загрузки/qgis temp/Обучение моделей/dataset/statistic.csv')"
   ]
  },
  {
   "cell_type": "code",
   "execution_count": 18,
   "id": "6984940c-3b6b-4022-94a8-17fbb755fdf6",
   "metadata": {},
   "outputs": [
    {
     "name": "stdout",
     "output_type": "stream",
     "text": [
      "-1.5916157281026244e-07\n",
      "-2.0691004465334117e-07\n"
     ]
    }
   ],
   "source": [
    "import numpy as np\n",
    "\n",
    "data = np.random.rand(1000000) * 14801\n",
    "#print(data)\n",
    "true_std = data.std()\n",
    "true_mean = data.mean()\n",
    "\n",
    "n = 0\n",
    "mean = 0.0\n",
    "M2 = 0.0  # сумма квадратов отклонений от текущего среднего\n",
    "\n",
    "for x in data:  # поток данных\n",
    "    n += 1\n",
    "    delta = x - mean\n",
    "    mean += delta / n\n",
    "    M2 += delta * (x - mean)\n",
    "\n",
    "if n < 2:\n",
    "    print( float('nan'))\n",
    "else:\n",
    "    std = (M2 / (n)) ** 0.5\n",
    "delta_std = std - true_std\n",
    "delta_mean = mean - true_mean\n",
    "print(delta_std * 2500)\n",
    "print(delta_mean *2500)"
   ]
  },
  {
   "cell_type": "code",
   "execution_count": 6,
   "id": "dc63bcde-0015-4a87-b3bc-0c37e63a4311",
   "metadata": {},
   "outputs": [
    {
     "data": {
      "text/plain": [
       "2482"
      ]
     },
     "execution_count": 6,
     "metadata": {},
     "output_type": "execute_result"
    }
   ],
   "source": [
    "from os import listdir\n",
    "len([i for i in listdir('/home/prokofev.a@agtu.ru/Загрузки/qgis temp/Обучение моделей/dataset/')])"
   ]
  },
  {
   "cell_type": "code",
   "execution_count": 4,
   "id": "9e821679",
   "metadata": {},
   "outputs": [
    {
     "name": "stdout",
     "output_type": "stream",
     "text": [
      "$2b$12$EBQzWmSJO.BLJ72Gu.04zeap6d2oTTdHNmAuUnJtSaXMUZutRDe7y\n"
     ]
    }
   ],
   "source": [
    "import bcrypt\n",
    "password_hash = bcrypt.hashpw(input().encode('utf-8'), bcrypt.gensalt()).decode('utf-8')\n",
    "print(password_hash)"
   ]
  },
  {
   "cell_type": "code",
   "execution_count": 2,
   "id": "a86c1d85",
   "metadata": {},
   "outputs": [
    {
     "data": {
      "text/plain": [
       "'argon2:$argon2id$v=19$m=10240,t=10,p=8$i1n456LP+PAc/pJnzYJswQ$FP2FDdVbcGcpJtvEJtD7O/7g5QNCTgi+eQRxwhO1plY'"
      ]
     },
     "execution_count": 2,
     "metadata": {},
     "output_type": "execute_result"
    }
   ],
   "source": [
    "from jupyter_server.auth import passwd\n",
    "passwd()"
   ]
  },
  {
   "cell_type": "code",
   "execution_count": 9,
   "id": "6ed1231a",
   "metadata": {},
   "outputs": [
    {
     "data": {
      "text/plain": [
       "1"
      ]
     },
     "execution_count": 9,
     "metadata": {},
     "output_type": "execute_result"
    }
   ],
   "source": [
    "import random\n",
    "random.choice([0,1])"
   ]
  },
  {
   "cell_type": "code",
   "execution_count": 5,
   "id": "607f159c",
   "metadata": {},
   "outputs": [
    {
     "data": {
      "image/png": "[encoded data removed]",
      "text/plain": [
       "<Figure size 800x600 with 2 Axes>"
      ]
     },
     "metadata": {},
     "output_type": "display_data"
    }
   ],
   "source": [
    "import numpy as np\n",
    "import matplotlib.pyplot as plt\n",
    "import matplotlib.colors as mcolors\n",
    "\n",
    "# Параметры\n",
    "n_classes = 5  # Количество классов\n",
    "image_shape = (10, 10)  # Размер изображения\n",
    "\n",
    "# 1. Генерация случайного классифицированного изображения\n",
    "np.random.seed(42)\n",
    "classified_image = np.random.randint(0, n_classes, size=image_shape)\n",
    "\n",
    "# 2. Генерация случайных цветов для каждого класса\n",
    "class_colors = {\n",
    "    i: mcolors.to_hex(np.random.rand(3))  # Генерируем случайный цвет в HEX\n",
    "    for i in range(n_classes)\n",
    "}\n",
    "\n",
    "# 3. Создаем цветовую карту (colormap)\n",
    "cmap = mcolors.ListedColormap([class_colors[i] for i in range(n_classes)])\n",
    "bounds = np.arange(n_classes + 1) - 0.5\n",
    "norm = mcolors.BoundaryNorm(bounds, cmap.N)\n",
    "\n",
    "# 4. Визуализация\n",
    "fig, ax = plt.subplots(figsize=(8, 6))\n",
    "im = ax.imshow(classified_image, cmap=cmap, norm=norm)\n",
    "\n",
    "# 5. Добавляем colorbar с названиями классов\n",
    "cbar = plt.colorbar(\n",
    "    im,\n",
    "    ax=ax,\n",
    "    ticks=np.arange(n_classes),\n",
    "    spacing=\"uniform\",\n",
    "    shrink=0.8,\n",
    ")\n",
    "cbar.set_label(\"Классы\")\n",
    "cbar.ax.set_yticklabels([f\"Класс {i}\" for i in range(n_classes)])\n",
    "\n",
    "plt.title(\"Классифицированное изображение со случайными цветами\")\n",
    "plt.show()"
   ]
  },
  {
   "cell_type": "code",
   "execution_count": 33,
   "id": "2aca3566",
   "metadata": {},
   "outputs": [],
   "source": [
    "import torch\n",
    "import segmentation_models_pytorch as smp\n",
    "\n",
    "def pack(a, b):\n",
    "    tensors1 = []\n",
    "    tensors2 = []\n",
    "    un = torch.cat([a, b]).unique().tolist()\n",
    "    for i in un:\n",
    "        tensors1.append(a == i)\n",
    "        tensors1.append(b == i)\n",
    "    return torch.stack(tensors1), torch.stack(tensors1), len(un)\n",
    "\n",
    "y_true = torch.tensor([[[[0,1,2], [3, 3, 3], [2, 1, 0]]]*9]*4)\n",
    "y_pred = torch.tensor([[[[0,1,2], [3, 2, 3], [2, 1, 0]]]*9]*4)\n",
    "#y_pred, num_classes = pack(y_true, y_pred)\n",
    "\n",
    "tp, fp, fn, tn = smp.metrics.get_stats(y_pred, y_true, mode='multiclass', num_classes=4)"
   ]
  },
  {
   "cell_type": "code",
   "execution_count": 34,
   "id": "f8332444",
   "metadata": {},
   "outputs": [
    {
     "data": {
      "text/plain": [
       "torch.Size([4, 9, 3, 3])"
      ]
     },
     "execution_count": 34,
     "metadata": {},
     "output_type": "execute_result"
    }
   ],
   "source": [
    "y_true.shape"
   ]
  },
  {
   "cell_type": "code",
   "execution_count": 35,
   "id": "5109a8d7",
   "metadata": {},
   "outputs": [
    {
     "data": {
      "text/plain": [
       "tensor([[1.0000, 1.0000, 0.6667, 0.6667],\n",
       "        [1.0000, 1.0000, 0.6667, 0.6667],\n",
       "        [1.0000, 1.0000, 0.6667, 0.6667],\n",
       "        [1.0000, 1.0000, 0.6667, 0.6667]])"
      ]
     },
     "execution_count": 35,
     "metadata": {},
     "output_type": "execute_result"
    }
   ],
   "source": [
    "smp.metrics.iou_score(tp, fp, fn, tn)"
   ]
  },
  {
   "cell_type": "code",
   "execution_count": 79,
   "id": "3be8d771",
   "metadata": {},
   "outputs": [
    {
     "name": "stdout",
     "output_type": "stream",
     "text": [
      "(tensor([[7392, 7251, 7370]]), tensor([[14578, 14543, 14402]]), tensor([[14373, 14434, 14716]]), tensor([[29193, 29308, 29048]]))\n"
     ]
    }
   ],
   "source": [
    "import torch\n",
    "import segmentation_models_pytorch as smp\n",
    "\n",
    "# Пример данных (batch_size=1, num_classes=3, height=256, width=256)\n",
    "output = torch.randint(0, 3, (1, 256, 256))  # логиты модели\n",
    "target = torch.randint(0, 3, (1, 256, 256))  # ground truth (классы 0, 1, 2)\n",
    "\n",
    "# Применяем softmax для многоклассовой сегментации\n",
    "#output_softmax = torch.softmax(output, dim=1)\n",
    "\n",
    "# Получаем статистики (TP, FP, FN, TN) для каждого класса\n",
    "stats = smp.metrics.get_stats(\n",
    "    output,\n",
    "    target,\n",
    "    mode=\"multiclass\",\n",
    "    num_classes=3,\n",
    ")\n",
    "\n",
    "print(stats)"
   ]
  }
 ],
 "metadata": {
  "kernelspec": {
   "display_name": "Python 3 (ipykernel)",
   "language": "python",
   "name": "python3"
  },
  "language_info": {
   "codemirror_mode": {
    "name": "ipython",
    "version": 3
   },
   "file_extension": ".py",
   "mimetype": "text/x-python",
   "name": "python",
   "nbconvert_exporter": "python",
   "pygments_lexer": "ipython3",
   "version": "3.11.10"
  }
 },
 "nbformat": 4,
 "nbformat_minor": 5
}
